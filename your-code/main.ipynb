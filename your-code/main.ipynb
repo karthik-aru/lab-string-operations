{
 "cells": [
  {
   "cell_type": "markdown",
   "metadata": {},
   "source": [
    "# Before your start:\n",
    "- Read the README.md file\n",
    "- Comment as much as you can and use the resources in the README.md file\n",
    "- Happy learning!"
   ]
  },
  {
   "cell_type": "code",
   "execution_count": 68,
   "metadata": {},
   "outputs": [],
   "source": [
    "import re"
   ]
  },
  {
   "cell_type": "markdown",
   "metadata": {},
   "source": [
    "# Challenge 1 - Combining Strings\n",
    "\n",
    "Combining strings is an important skill to acquire. There are multiple ways of combining strings in Python, as well as combining strings with variables. We will explore this in the first challenge. In the cell below, combine the strings in the list and add spaces between the strings (do not add a space after the last string). Insert a period after the last string."
   ]
  },
  {
   "cell_type": "code",
   "execution_count": 69,
   "metadata": {},
   "outputs": [
    {
     "name": "stdout",
     "output_type": "stream",
     "text": [
      "Durante un tiempo no estuvo segura de si su marido era su marido \n"
     ]
    }
   ],
   "source": [
    "str_list = ['Durante', 'un', 'tiempo', 'no', 'estuvo', 'segura', 'de', 'si', 'su', 'marido', 'era', 'su', 'marido']\n",
    "# Your code here:\n",
    "\n",
    "sentence = \"\"\n",
    "\n",
    "for str in str_list:\n",
    "    sentence += str + \" \"\n",
    "\n",
    "print(sentence)    "
   ]
  },
  {
   "cell_type": "markdown",
   "metadata": {},
   "source": [
    "In the cell below, use the list of strings to create a grocery list. Start the list with the string `Grocery list: ` and include a comma and a space between each item except for the last one. Include a period at the end. Only include foods in the list that start with the letter 'b' and ensure all foods are lower case."
   ]
  },
  {
   "cell_type": "code",
   "execution_count": 70,
   "metadata": {},
   "outputs": [
    {
     "name": "stdout",
     "output_type": "stream",
     "text": [
      "Grocery_list: Bananas, Chocolate, bread, diapers, Ice Cream, Brownie Mix, broccoli.\n"
     ]
    }
   ],
   "source": [
    "food_list = ['Bananas', 'Chocolate', 'bread', 'diapers', 'Ice Cream', 'Brownie Mix', 'broccoli']\n",
    "# Your code here:\n",
    "\n",
    "grocery_list = \"Grocery_list: \"\n",
    "\n",
    "for food in food_list:\n",
    "    if len(food_list) - food_list.index(food) > 1:\n",
    "        grocery_list += food + \", \"\n",
    "    else:\n",
    "        grocery_list += food + \".\"\n",
    "\n",
    "print(grocery_list)"
   ]
  },
  {
   "cell_type": "markdown",
   "metadata": {},
   "source": [
    "In the cell below, compute the area of a circle using its radius and insert the radius and the area between `string1` and `string2`. Make sure to include spaces between the variable and the strings. \n",
    "\n",
    "Note: You can use the techniques we have learned so far or use f-strings. F-strings allow us to embed code inside strings. You can read more about f-strings [here](https://www.python.org/dev/peps/pep-0498/)."
   ]
  },
  {
   "cell_type": "code",
   "execution_count": 71,
   "metadata": {},
   "outputs": [
    {
     "data": {
      "text/plain": [
       "'The area of the circle with radius: 4.5 is: 63.61725123519331'"
      ]
     },
     "execution_count": 71,
     "metadata": {},
     "output_type": "execute_result"
    }
   ],
   "source": [
    "import math\n",
    "\n",
    "string1 = \"The area of the circle with radius:\"\n",
    "string2  = \"is:\"\n",
    "radius = 4.5\n",
    "pi = math.pi\n",
    "\n",
    "# Your code here:\n",
    "f'{string1} {radius} {string2} {pi*radius*radius}'"
   ]
  },
  {
   "cell_type": "markdown",
   "metadata": {},
   "source": [
    "# Challenge 2 - Splitting Strings\n",
    "\n",
    "We have first looked at combining strings into one long string. There are times where we need to do the opposite and split the string into smaller components for further analysis. \n",
    "\n",
    "In the cell below, split the string into a list of strings using the space delimiter. Count the frequency of each word in the string in a dictionary. Strip the periods, line breaks and commas from the text. Make sure to remove empty strings from your dictionary."
   ]
  },
  {
   "cell_type": "code",
   "execution_count": 72,
   "metadata": {},
   "outputs": [
    {
     "name": "stdout",
     "output_type": "stream",
     "text": [
      "{'but': 1, 'also': 1, 'would': 1, 'favor': 1, 'who': 1, 'destruction': 1, 'know': 1, 'world': 1, 'to': 2, 'in': 2, 'i’ve': 1, 'i': 3, 'enough': 1, 'say': 3, 'for': 1, 'tasted': 1, 'think': 1, 'the': 1, 'is': 1, 'suffice': 1, 'from': 1, 'ice': 2, 'that': 1, 'great': 1, 'desire': 1, 'will': 1, 'it': 1, 'hate': 1, 'some': 2, 'of': 2, 'and': 1, 'those': 1, 'end': 1, 'had': 1, 'fire': 2, 'twice': 1, 'what': 1, 'if': 1, 'perish': 1, 'hold': 1, 'with': 1}\n"
     ]
    }
   ],
   "source": [
    "poem = \"\"\"Some say the world will end in fire,\n",
    "Some say in ice.\n",
    "From what I’ve tasted of desire\n",
    "I hold with those who favor fire.\n",
    "But if it had to perish twice,\n",
    "I think I know enough of hate\n",
    "To say that for destruction ice\n",
    "Is also great\n",
    "And would suffice.\"\"\"\n",
    "\n",
    "# Your code here:\n",
    "def remove_special_chars(text):\n",
    "    text_clean = \"\"\n",
    "    for char in poem:\n",
    "        if not char.isalpha() and char != \"’\":\n",
    "            #print(char)\n",
    "            text_clean += \" \"\n",
    "        else:\n",
    "            text_clean += char\n",
    "    return text_clean\n",
    "\n",
    "def remove_empty_strings(words_list):\n",
    "    word_no_empty_strings = []\n",
    "    for elem in words_list:\n",
    "        if not elem.isspace() and len(elem) > 0:\n",
    "            word_no_empty_strings.append(elem)\n",
    "    \n",
    "    return word_no_empty_strings\n",
    "\n",
    "def count_words(word_list):\n",
    "    count_dict = {}\n",
    "    word_set = set(word_list)\n",
    "    \n",
    "    for word_s in word_set:\n",
    "        count = 0\n",
    "        for word_l in word_list:\n",
    "            if word_s == word_l:\n",
    "                count += 1\n",
    "        count_dict[word_s] = count\n",
    "        \n",
    "    return count_dict\n",
    "    \n",
    "def main():\n",
    "    poem_words_clean = remove_special_chars(poem)       \n",
    "    poem_words_list = remove_empty_strings(poem_words_clean.lower().split(\" \"))\n",
    "\n",
    "    print(count_words(poem_words_list))\n",
    "    \n",
    "if __name__ == \"__main__\":\n",
    "    main()"
   ]
  },
  {
   "cell_type": "markdown",
   "metadata": {},
   "source": [
    "In the cell below, find all the words that appear in the text and do not appear in the blacklist. You must parse the string but can choose any data structure you wish for the words that do not appear in the blacklist. Remove all non letter characters and convert all words to lower case."
   ]
  },
  {
   "cell_type": "code",
   "execution_count": 73,
   "metadata": {},
   "outputs": [
    {
     "name": "stdout",
     "output_type": "stream",
     "text": [
      "The words that do not appear in the blacklist are : {'both', 'into', 'with', 'outstretched', 'stole', 'morning', 'veild', 'told', 'smiles', 'when', 'i', 'angry', 'deceitful', 'my', 'tears', 'grow', 'was', 'shine', 'friend', 'till', 'that', 'see', 'fears', 'wrath', 'apple', 'foe', 'beheld', 'grew', 'mine', 'sunned', 'end', 'bright', 'had', 'wiles', 'did', 'he', 'garden', 'not', 'knew', 'day', 'bore', 'waterd', 'soft', 'night', 'pole', 'glad', 'tree', 'beneath'}\n"
     ]
    }
   ],
   "source": [
    "blacklist = ['and', 'as', 'an', 'a', 'the', 'in', 'it']\n",
    "\n",
    "poem = \"\"\"I was angry with my friend; \n",
    "I told my wrath, my wrath did end.\n",
    "I was angry with my foe: \n",
    "I told it not, my wrath did grow. \n",
    "\n",
    "And I waterd it in fears,\n",
    "Night & morning with my tears: \n",
    "And I sunned it with smiles,\n",
    "And with soft deceitful wiles. \n",
    "\n",
    "And it grew both day and night. \n",
    "Till it bore an apple bright. \n",
    "And my foe beheld it shine,\n",
    "And he knew that it was mine. \n",
    "\n",
    "And into my garden stole, \n",
    "When the night had veild the pole; \n",
    "In the morning glad I see; \n",
    "My foe outstretched beneath the tree.\"\"\"\n",
    "\n",
    "# Your code here:\n",
    "def main():\n",
    "    poem_words_clean = remove_special_chars(poem)       \n",
    "    poem_words_list = set(remove_empty_strings(poem_words_clean.lower().split(\" \")))\n",
    "    \n",
    "    blacklist_set = set(blacklist)\n",
    "    \n",
    "    print(\"The words that do not appear in the blacklist are :\", poem_words_list.difference(blacklist))\n",
    "    \n",
    "if __name__ == \"__main__\":\n",
    "    main()\n"
   ]
  },
  {
   "cell_type": "markdown",
   "metadata": {},
   "source": [
    "# Bonus 1 - Regular Expressions\n",
    "\n",
    "Sometimes, we would like to perform more complex manipulations of our string. This is where regular expressions come in handy. In the cell below, return all characters that are upper case from the string specified below."
   ]
  },
  {
   "cell_type": "code",
   "execution_count": 74,
   "metadata": {},
   "outputs": [
    {
     "name": "stdout",
     "output_type": "stream",
     "text": [
      "['T', 'P']\n"
     ]
    }
   ],
   "source": [
    "poem = \"\"\"The apparition of these faces in the crowd;\n",
    "Petals on a wet, black bough.\"\"\"\n",
    "\n",
    "# Your code here:\n",
    "upper_case_letters = []\n",
    "for char in poem:\n",
    "    if char.isupper():\n",
    "        upper_case_letters.append(char)\n",
    "        \n",
    "print(upper_case_letters)"
   ]
  },
  {
   "cell_type": "markdown",
   "metadata": {},
   "source": [
    "In the cell below, filter the list provided and return all elements of the list containing a number. To filter the list, use the `re.search` function. Check if the function does not return `None`. You can read more about the `re.search` function [here](https://docs.python.org/3/library/re.html)."
   ]
  },
  {
   "cell_type": "code",
   "execution_count": 78,
   "metadata": {},
   "outputs": [
    {
     "name": "stdout",
     "output_type": "stream",
     "text": [
      "['123abc', 'abc123', 'JohnSmith1', 'ABBY4']\n"
     ]
    }
   ],
   "source": [
    "data = ['123abc', 'abc123', 'JohnSmith1', 'ABBY4', 'JANE']\n",
    "\n",
    "# Your code here:\n",
    "elements_with_number = []\n",
    "for elem in data:\n",
    "    if re.search(\"[0-9]\", elem):\n",
    "        elements_with_number.append(elem)\n",
    "        \n",
    "print(elements_with_number)"
   ]
  },
  {
   "cell_type": "markdown",
   "metadata": {},
   "source": [
    "# Bonus 2 - Regular Expressions II\n",
    "\n",
    "In the cell below, filter the list provided to keep only strings containing at least one digit and at least one lower case letter. As in the previous question, use the `re.search` function and check that the result is not `None`.\n",
    "\n",
    "To read more about regular expressions, check out [this link](https://developers.google.com/edu/python/regular-expressions)."
   ]
  },
  {
   "cell_type": "code",
   "execution_count": 79,
   "metadata": {},
   "outputs": [
    {
     "name": "stdout",
     "output_type": "stream",
     "text": [
      "['123abc', 'abc123', 'JohnSmith1']\n"
     ]
    }
   ],
   "source": [
    "data = ['123abc', 'abc123', 'JohnSmith1', 'ABBY4', 'JANE']\n",
    "\n",
    "# Your code here:\n",
    "elements_regex_filtered = []\n",
    "for elem in data:\n",
    "    if re.search(\"[0-9]\", elem) and re.search(\"[a-z]\", elem):\n",
    "        elements_regex_filtered.append(elem)\n",
    "        \n",
    "print(elements_regex_filtered)"
   ]
  }
 ],
 "metadata": {
  "file_extension": ".py",
  "kernelspec": {
   "display_name": "Python 3",
   "language": "python",
   "name": "python3"
  },
  "language_info": {
   "codemirror_mode": {
    "name": "ipython",
    "version": 3
   },
   "file_extension": ".py",
   "mimetype": "text/x-python",
   "name": "python",
   "nbconvert_exporter": "python",
   "pygments_lexer": "ipython3",
   "version": "3.7.6"
  },
  "mimetype": "text/x-python",
  "name": "python",
  "npconvert_exporter": "python",
  "pygments_lexer": "ipython3",
  "version": 3
 },
 "nbformat": 4,
 "nbformat_minor": 2
}
